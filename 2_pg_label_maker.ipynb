{
 "cells": [
  {
   "cell_type": "markdown",
   "metadata": {},
   "source": [
    "# Packages"
   ]
  },
  {
   "cell_type": "code",
   "execution_count": 1,
   "metadata": {},
   "outputs": [],
   "source": [
    "import os\n",
    "\n",
    "import numpy as np\n",
    "np.set_printoptions(suppress=True)\n",
    "import pandas as pd\n",
    "\n",
    "from scipy.optimize import curve_fit\n",
    "from sklearn.metrics import r2_score"
   ]
  },
  {
   "cell_type": "markdown",
   "metadata": {},
   "source": [
    "# Data preprocessing"
   ]
  },
  {
   "cell_type": "markdown",
   "metadata": {},
   "source": [
    "# 2020 Summer"
   ]
  },
  {
   "cell_type": "markdown",
   "metadata": {},
   "source": [
    "## Plant growth factors"
   ]
  },
  {
   "cell_type": "code",
   "execution_count": 2,
   "metadata": {},
   "outputs": [],
   "source": [
    "pg_df = []"
   ]
  },
  {
   "cell_type": "code",
   "execution_count": 3,
   "metadata": {},
   "outputs": [],
   "source": [
    "temp_df = pd.read_csv('../ch2_weighing/results/2020_S/node_length.csv', index_col='Unnamed: 0')\n",
    "temp_df.columns = temp_df.columns.astype('int64')\n",
    "\n",
    "last_day = pd.concat([temp_df.loc['2020-07-07'].dropna(),\n",
    "                      temp_df.loc['2020-07-08'].dropna(),\n",
    "                      temp_df.loc['2020-07-09'].dropna()]).reset_index().drop('index', axis=1)\n",
    "last_day.index = list(last_day.index)\n",
    "\n",
    "temp_index = temp_df.index\n",
    "temp_df = pd.concat([temp_df.loc[:'2020-06-17'], last_day.T])\n",
    "temp_df.index = list(temp_index[:-3]) + ['2020-07-03']\n",
    "temp_df.index = pd.DatetimeIndex(temp_df.index)\n",
    "\n",
    "l = []\n",
    "l_i = []\n",
    "for _ in range(temp_df.shape[0]):\n",
    "    ll = temp_df.iloc[_].dropna()\n",
    "    l.extend(ll.values)\n",
    "    l_i.extend([temp_df.index[_]]*ll.shape[0])\n",
    "temp_df = pd.DataFrame(l, index=l_i, columns=['node_len'])\n",
    "\n",
    "pg_df.append(temp_df)"
   ]
  },
  {
   "cell_type": "code",
   "execution_count": 4,
   "metadata": {},
   "outputs": [],
   "source": [
    "temp_df = pd.read_csv('../ch2_weighing/results/2020_S/node_diameter.csv', index_col='Unnamed: 0')\n",
    "temp_df.columns = temp_df.columns.astype('int64')\n",
    "\n",
    "last_day = pd.concat([temp_df.loc['2020-07-07'].dropna(),\n",
    "                      temp_df.loc['2020-07-08'].dropna(),\n",
    "                      temp_df.loc['2020-07-09'].dropna()]).reset_index().drop('index', axis=1)\n",
    "last_day.index = list(last_day.index)\n",
    "\n",
    "temp_index = temp_df.index\n",
    "temp_df = pd.concat([temp_df.loc[:'2020-06-17'], last_day.T])\n",
    "temp_df.index = list(temp_index[:-3]) + ['2020-07-03']\n",
    "temp_df.index = pd.DatetimeIndex(temp_df.index)\n",
    "\n",
    "l = []\n",
    "l_i = []\n",
    "for _ in range(temp_df.shape[0]):\n",
    "    ll = temp_df.iloc[_].dropna()\n",
    "    l.extend(ll.values)\n",
    "    l_i.extend([temp_df.index[_]]*ll.shape[0])\n",
    "temp_df = pd.DataFrame(l, index=l_i, columns=['node_dia'])\n",
    "\n",
    "pg_df.append(temp_df)"
   ]
  },
  {
   "cell_type": "code",
   "execution_count": 5,
   "metadata": {},
   "outputs": [],
   "source": [
    "temp_df = pd.read_csv('../ch2_weighing/results/2020_S/plant_height.csv', index_col='Unnamed: 0')\n",
    "temp_df.columns = temp_df.columns.astype('int64')\n",
    "\n",
    "last_day = pd.concat([temp_df.loc['2020-07-07'].dropna(),\n",
    "                      temp_df.loc['2020-07-08'].dropna(),\n",
    "                      temp_df.loc['2020-07-09'].dropna()]).reset_index().drop('index', axis=1)\n",
    "last_day.index = list(last_day.index)\n",
    "\n",
    "temp_index = temp_df.index\n",
    "temp_df = pd.concat([temp_df.loc[:'2020-06-17'], last_day.T])\n",
    "temp_df.index = list(temp_index[:-3]) + ['2020-07-03']\n",
    "temp_df.index = pd.DatetimeIndex(temp_df.index)\n",
    "\n",
    "l = []\n",
    "l_i = []\n",
    "for _ in range(temp_df.shape[0]):\n",
    "    ll = temp_df.iloc[_].dropna()\n",
    "    l.extend(ll.values)\n",
    "    l_i.extend([temp_df.index[_]]*ll.shape[0])\n",
    "temp_df = pd.DataFrame(l, index=l_i, columns=['plant_h'])\n",
    "\n",
    "pg_df.append(temp_df)"
   ]
  },
  {
   "cell_type": "code",
   "execution_count": 6,
   "metadata": {},
   "outputs": [],
   "source": [
    "temp_df = pd.read_csv('../ch2_weighing/results/2020_S/leaf_area.csv', index_col='Unnamed: 0')\n",
    "temp_df.columns = temp_df.columns.astype('int64')\n",
    "\n",
    "last_day = pd.concat([temp_df.loc['2020-07-07'].dropna(),\n",
    "                      temp_df.loc['2020-07-08'].dropna(),\n",
    "                      temp_df.loc['2020-07-09'].dropna()]).reset_index().drop('index', axis=1)\n",
    "last_day.index = list(last_day.index)\n",
    "\n",
    "temp_index = temp_df.index\n",
    "temp_df = pd.concat([temp_df.loc[:'2020-06-17'], last_day.T])/10000\n",
    "temp_df.index = list(temp_index[:-3]) + ['2020-07-03']\n",
    "temp_df.index = pd.DatetimeIndex(temp_df.index)\n",
    "\n",
    "l = []\n",
    "l_i = []\n",
    "for _ in range(temp_df.shape[0]):\n",
    "    ll = temp_df.iloc[_].dropna()\n",
    "    l.extend(ll.values)\n",
    "    l_i.extend([temp_df.index[_]]*ll.shape[0])\n",
    "temp_df = pd.DataFrame(l, index=l_i, columns=['leaf_area'])\n",
    "\n",
    "pg_df.append(temp_df)"
   ]
  },
  {
   "cell_type": "code",
   "execution_count": 7,
   "metadata": {},
   "outputs": [],
   "source": [
    "pg_df = pd.concat(pg_df, axis=1)\n",
    "pg_df['DAT'] = [27]*3 + [55]*3 + [86]*3 + [112]*4 + [128]*20\n",
    "pg_df['date'] = pg_df.index\n",
    "pg_df = pg_df.set_index(['DAT'])"
   ]
  },
  {
   "cell_type": "code",
   "execution_count": 8,
   "metadata": {},
   "outputs": [],
   "source": [
    "pg_reg_df = []\n",
    "plot_x = [_ for _ in range(14, 129)]\n",
    "date_x = pd.date_range('2020-03-11', '2020-07-03', freq='1d')"
   ]
  },
  {
   "cell_type": "code",
   "execution_count": 9,
   "metadata": {},
   "outputs": [],
   "source": [
    "pg_df.iloc[-2, 0] = np.nan\n",
    "pg_df = pg_df.dropna()"
   ]
  },
  {
   "cell_type": "code",
   "execution_count": 10,
   "metadata": {},
   "outputs": [],
   "source": [
    "def sigmoid(x, L, k, x0, b):\n",
    "    return L / (b + np.exp(-k*(x-x0)))"
   ]
  },
  {
   "cell_type": "code",
   "execution_count": 11,
   "metadata": {},
   "outputs": [
    {
     "name": "stdout",
     "output_type": "stream",
     "text": [
      "0.7337787624866217\n"
     ]
    }
   ],
   "source": [
    "x = pg_df.index\n",
    "y = pg_df['node_len']*10\n",
    "popt, pcov = curve_fit(sigmoid, x, y, method='trf')\n",
    "print(r2_score(y, sigmoid(x, *popt)))\n",
    "\n",
    "plot_y = sigmoid(plot_x, *popt)\n",
    "pg_reg_df.append(plot_y/10)"
   ]
  },
  {
   "cell_type": "code",
   "execution_count": 12,
   "metadata": {},
   "outputs": [
    {
     "name": "stdout",
     "output_type": "stream",
     "text": [
      "0.7443034188067146\n"
     ]
    }
   ],
   "source": [
    "x = pg_df.index\n",
    "y = pg_df['node_dia']*10\n",
    "popt, pcov = curve_fit(sigmoid, x, y, method='trf')\n",
    "print(r2_score(y, sigmoid(x, *popt)))\n",
    "\n",
    "plot_y = sigmoid(plot_x, *popt)\n",
    "pg_reg_df.append(plot_y/10)"
   ]
  },
  {
   "cell_type": "code",
   "execution_count": 13,
   "metadata": {},
   "outputs": [
    {
     "name": "stdout",
     "output_type": "stream",
     "text": [
      "0.9575512554927045\n"
     ]
    }
   ],
   "source": [
    "x = pg_df.index\n",
    "y = pg_df['plant_h']\n",
    "popt, pcov = curve_fit(sigmoid, x, y, method='trf')\n",
    "print(r2_score(y, sigmoid(x, *popt)))\n",
    "\n",
    "plot_y = sigmoid(plot_x, *popt)\n",
    "pg_reg_df.append(plot_y)"
   ]
  },
  {
   "cell_type": "code",
   "execution_count": 14,
   "metadata": {},
   "outputs": [
    {
     "name": "stdout",
     "output_type": "stream",
     "text": [
      "0.868271888891615\n"
     ]
    }
   ],
   "source": [
    "x = pg_df.index\n",
    "y = pg_df['leaf_area']*1000\n",
    "popt, pcov = curve_fit(sigmoid, x, y, method='trf')\n",
    "print(r2_score(y, sigmoid(x, *popt)))\n",
    "\n",
    "plot_y = sigmoid(plot_x, *popt)\n",
    "pg_reg_df.append(plot_y/1000)"
   ]
  },
  {
   "cell_type": "code",
   "execution_count": 15,
   "metadata": {},
   "outputs": [],
   "source": [
    "pg_reg_df = pd.DataFrame(pg_reg_df).T\n",
    "pg_reg_df.columns = ['node_len', 'node_dia', 'plant_h', 'leaf_area']\n",
    "pg_reg_df.index = date_x"
   ]
  },
  {
   "cell_type": "markdown",
   "metadata": {},
   "source": [
    "## Fresh weight (device)"
   ]
  },
  {
   "cell_type": "code",
   "execution_count": 16,
   "metadata": {},
   "outputs": [],
   "source": [
    "SW2_df = pd.read_csv('../ch2_weighing/results/2020_S/SW2_greenhouse.csv', index_col='Unnamed: 0')\n",
    "SW2_df.index = pd.DatetimeIndex(SW2_df.index)\n",
    "\n",
    "SW2_df = SW2_df.loc['2020-03-05 00:00:00': '2020-07-03 23:59:00']\n",
    "SW2_df = SW2_df.interpolate()"
   ]
  },
  {
   "cell_type": "code",
   "execution_count": 17,
   "metadata": {},
   "outputs": [],
   "source": [
    "rockwool_slab = np.array([626, 708, 650, 642])\n",
    "rockwool_cube = np.array([48, 46, 50, 48, 46])\n",
    "rockwool = (rockwool_slab + rockwool_cube.mean()*4)/1000\n",
    "rockwool_mean = rockwool.mean()"
   ]
  },
  {
   "cell_type": "code",
   "execution_count": 18,
   "metadata": {},
   "outputs": [],
   "source": [
    "substrate_volume = (120*12*7.5 + 10*10*6.5*4)/1000\n",
    "water_w_df = substrate_volume*SW2_df['subs_VWC']/100\n",
    "SW2_df['water'] = water_w_df"
   ]
  },
  {
   "cell_type": "code",
   "execution_count": 19,
   "metadata": {},
   "outputs": [],
   "source": [
    "SW2_df.loc[:, 'loadcell_1'] = SW2_df.loc[:, 'loadcell_1'] - rockwool_mean\n",
    "SW2_df.loc[:, 'loadcell_2'] = SW2_df.loc[:, 'loadcell_2'] - rockwool_mean\n",
    "SW2_df.loc[:, 'loadcell_3'] = SW2_df.loc[:, 'loadcell_3'] - rockwool_mean"
   ]
  },
  {
   "cell_type": "code",
   "execution_count": 20,
   "metadata": {},
   "outputs": [],
   "source": [
    "weight_df = pd.read_csv('../ch2_weighing/results/2020_S/weight.csv', index_col='Unnamed: 0')\n",
    "weight_df.index = pd.DatetimeIndex(weight_df.index)\n",
    "weight_df.index = np.append(weight_df.index[:-20], pd.DatetimeIndex(['2020-07-03']*20))\n",
    "wweight_df = weight_df[['Stem FW', 'Leaf FW', 'petiole FW', 'Idv fruit FW']].sum(axis=1)"
   ]
  },
  {
   "cell_type": "code",
   "execution_count": 21,
   "metadata": {},
   "outputs": [],
   "source": [
    "roots_DW = np.array([301.25, 293.55, 315.15, 356.45, 341.55, 267.65, 303.55, 231.05, 253.05, 272.35, 334.35])/1000\n",
    "roots_DW_mean = roots_DW.mean()\n",
    "rs_ratio_df = pd.DataFrame([0.23255813953488372, 0.14789272030651343, 0.11954022988505748, 0.13678160919540233, 0.2835814088817321], index=weight_df.index.unique(), columns=['RS_ratio'])\n",
    "DW_sum_df = weight_df[[col for col in weight_df.columns if col.endswith('DW')]].sum(axis=1).groupby(weight_df.index).mean()"
   ]
  },
  {
   "cell_type": "code",
   "execution_count": 22,
   "metadata": {},
   "outputs": [],
   "source": [
    "roots_df = (DW_sum_df.T * rs_ratio_df.T).T\n",
    "roots_df.columns = ['root DW']\n",
    "roots_df['root FW'] = roots_df['root DW']/0.1325\n",
    "roots_df.index = pd.DatetimeIndex(roots_df.index)\n",
    "wweight_wr_df = wweight_df.add(roots_df['root FW'])"
   ]
  },
  {
   "cell_type": "code",
   "execution_count": 23,
   "metadata": {},
   "outputs": [],
   "source": [
    "night_df = SW2_df.loc[SW2_df['rad'] <= 0.2, 'loadcell_1':'loadcell_3']"
   ]
  },
  {
   "cell_type": "code",
   "execution_count": 24,
   "metadata": {},
   "outputs": [],
   "source": [
    "device_df = pd.concat([(night_df.resample('1d').mean()['loadcell_1'] - SW2_df['water'].resample('1d').mean())/4,\n",
    "                       (night_df.resample('1d').mean()['loadcell_2'] - SW2_df['water'].resample('1d').mean())/4,\n",
    "                       (night_df.resample('1d').mean()['loadcell_3'] - SW2_df['water'].resample('1d').mean())/4], axis=1)\n",
    "device_df.columns = ['CT_1', 'CT_2', 'CT_3']"
   ]
  },
  {
   "cell_type": "markdown",
   "metadata": {},
   "source": [
    "## Fresh & dry weight (destructive investigation)"
   ]
  },
  {
   "cell_type": "code",
   "execution_count": 25,
   "metadata": {},
   "outputs": [],
   "source": [
    "desinv_df = pd.read_csv('../ch2_weighing/results/2020_S/weight_ct.csv', index_col='Unnamed: 0')\n",
    "desinv_df.index = pd.DatetimeIndex(desinv_df.index)\n",
    "desinv_df.index = np.append(desinv_df.index[:-20], pd.DatetimeIndex(['2020-07-03']*20))"
   ]
  },
  {
   "cell_type": "code",
   "execution_count": 26,
   "metadata": {},
   "outputs": [],
   "source": [
    "harvest_df = pd.read_excel('./data/harvest_FWnDW_2020S.xlsx', index_col='date', sheet_name='A2')\n",
    "harvest_df.index = pd.DatetimeIndex(harvest_df.index)\n",
    "harvest_df = harvest_df.sort_index()\n",
    "harvest_df = harvest_df.groupby(harvest_df.index).sum()\n",
    "harvest_df.columns = ['harvest_fw', 'harvest_dw']"
   ]
  },
  {
   "cell_type": "code",
   "execution_count": 27,
   "metadata": {},
   "outputs": [],
   "source": [
    "dw_df = desinv_df.loc[:, ['Stem DW', 'Leaf DW', 'petiole DW', 'Fruit DW']]\n",
    "dw_df.columns = ['stem_dw', 'leaf_dw', 'petiole_dw', 'fruit_dw']\n",
    "fw_df = desinv_df.loc[:, ['Stem FW', 'Leaf FW', 'petiole FW', 'Idv fruit FW']]\n",
    "fw_df.columns = ['stem_fw', 'leaf_fw', 'petiole_fw', 'fruit_fw']"
   ]
  },
  {
   "cell_type": "code",
   "execution_count": 28,
   "metadata": {},
   "outputs": [],
   "source": [
    "fw_ratio_df = fw_df.dropna().values / fw_df.dropna().sum(axis=1).values.reshape(-1, 1)\n",
    "# dw_ratio_df = dw_df.dropna().values / dw_df.dropna().sum(axis=1).values.reshape(-1, 1)"
   ]
  },
  {
   "cell_type": "code",
   "execution_count": 29,
   "metadata": {},
   "outputs": [],
   "source": [
    "fw_ratio_df = pd.DataFrame(fw_ratio_df, index=fw_df.dropna().index, columns=fw_df.columns)"
   ]
  },
  {
   "cell_type": "code",
   "execution_count": 30,
   "metadata": {},
   "outputs": [],
   "source": [
    "fw_df = fw_df.groupby(fw_df.index).mean()\n",
    "fw_df = fw_df.reindex(pg_reg_df.index)\n",
    "fw_df = fw_df.interpolate().bfill()\n",
    "dw_df = dw_df.groupby(dw_df.index).mean()\n",
    "dw_df = dw_df.reindex(pg_reg_df.index)\n",
    "dw_df = dw_df.interpolate().bfill()"
   ]
  },
  {
   "cell_type": "code",
   "execution_count": 31,
   "metadata": {},
   "outputs": [],
   "source": [
    "fw_ratio_df = fw_ratio_df.groupby(fw_ratio_df.index).mean().reindex(pg_reg_df.index)\n",
    "fw_ratio_df = fw_ratio_df.interpolate().bfill()"
   ]
  },
  {
   "cell_type": "code",
   "execution_count": 32,
   "metadata": {},
   "outputs": [],
   "source": [
    "pg_df = pd.concat([device_df, fw_ratio_df, dw_df, pg_reg_df, harvest_df], axis=1).loc[pg_reg_df.index[0]:pg_reg_df.index[-1]]\n",
    "pg_df.loc[pd.isna(pg_df['harvest_fw']), 'harvest_fw'] = 0\n",
    "pg_df.loc[pd.isna(pg_df['harvest_dw']), 'harvest_dw'] = 0"
   ]
  },
  {
   "cell_type": "code",
   "execution_count": 33,
   "metadata": {},
   "outputs": [],
   "source": [
    "CT1_part_df = pd.concat([pg_df['CT_1']*pg_df['stem_fw'],\n",
    "                         pg_df['CT_1']*pg_df['leaf_fw'],\n",
    "                         pg_df['CT_1']*pg_df['petiole_fw'],\n",
    "                         pg_df['CT_1']*pg_df['fruit_fw']], axis=1)\n",
    "CT2_part_df = pd.concat([pg_df['CT_2']*pg_df['stem_fw'],\n",
    "                         pg_df['CT_2']*pg_df['leaf_fw'],\n",
    "                         pg_df['CT_2']*pg_df['petiole_fw'],\n",
    "                         pg_df['CT_2']*pg_df['fruit_fw']], axis=1)\n",
    "CT3_part_df = pd.concat([pg_df['CT_3']*pg_df['stem_fw'],\n",
    "                         pg_df['CT_3']*pg_df['leaf_fw'],\n",
    "                         pg_df['CT_3']*pg_df['petiole_fw'],\n",
    "                         pg_df['CT_3']*pg_df['fruit_fw']], axis=1)\n",
    "CT1_part_df.columns = ['stem_fw', 'leaf_fw', 'petiole_fw', 'fruit_fw']\n",
    "CT2_part_df.columns = ['stem_fw', 'leaf_fw', 'petiole_fw', 'fruit_fw']\n",
    "CT3_part_df.columns = ['stem_fw', 'leaf_fw', 'petiole_fw', 'fruit_fw']"
   ]
  },
  {
   "cell_type": "code",
   "execution_count": 34,
   "metadata": {},
   "outputs": [],
   "source": [
    "CT1_weight_df = pd.concat([pg_df[['CT_1', 'stem_dw', 'leaf_dw', 'petiole_dw', 'fruit_dw', 'harvest_dw', 'harvest_fw']], CT1_part_df], axis=1)\n",
    "CT1_weight_df.columns = ['tot_fw', 'stem_dw', 'leaf_dw', 'petiole_dw', 'fruit_dw', 'harvest_dw', 'harvest_fw', 'stem_fw', 'leaf_fw', 'petiole_fw', 'fruit_fw']\n",
    "CT1_weight_df = CT1_weight_df[['tot_fw', 'stem_fw', 'leaf_fw', 'petiole_fw', 'fruit_fw', 'harvest_fw', 'stem_dw', 'leaf_dw', 'petiole_dw', 'fruit_dw', 'harvest_dw']]\n",
    "\n",
    "CT2_weight_df = pd.concat([pg_df[['CT_2', 'stem_dw', 'leaf_dw', 'petiole_dw', 'fruit_dw', 'harvest_dw', 'harvest_fw']], CT2_part_df], axis=1)\n",
    "CT2_weight_df.columns = ['tot_fw', 'stem_dw', 'leaf_dw', 'petiole_dw', 'fruit_dw', 'harvest_dw', 'harvest_fw', 'stem_fw', 'leaf_fw', 'petiole_fw', 'fruit_fw']\n",
    "CT2_weight_df = CT2_weight_df[['tot_fw', 'stem_fw', 'leaf_fw', 'petiole_fw', 'fruit_fw', 'harvest_fw', 'stem_dw', 'leaf_dw', 'petiole_dw', 'fruit_dw', 'harvest_dw']]\n",
    "\n",
    "CT3_weight_df = pd.concat([pg_df[['CT_3', 'stem_dw', 'leaf_dw', 'petiole_dw', 'fruit_dw', 'harvest_dw', 'harvest_fw']], CT3_part_df], axis=1)\n",
    "CT3_weight_df.columns = ['tot_fw', 'stem_dw', 'leaf_dw', 'petiole_dw', 'fruit_dw', 'harvest_dw', 'harvest_fw', 'stem_fw', 'leaf_fw', 'petiole_fw', 'fruit_fw']\n",
    "CT3_weight_df = CT3_weight_df[['tot_fw', 'stem_fw', 'leaf_fw', 'petiole_fw', 'fruit_fw', 'harvest_fw', 'stem_dw', 'leaf_dw', 'petiole_dw', 'fruit_dw', 'harvest_dw']]"
   ]
  },
  {
   "cell_type": "code",
   "execution_count": 35,
   "metadata": {},
   "outputs": [],
   "source": [
    "SW2_df = pd.read_csv('../ch2_weighing/results/2020_S/SW2_greenhouse.csv', index_col='Unnamed: 0')\n",
    "SW2_df.index = pd.DatetimeIndex(SW2_df.index)\n",
    "\n",
    "SW2_df = SW2_df.interpolate()\n",
    "SW2_df = SW2_df.loc['2020-03-11 00:00:00': '2020-07-03 23:59:00']"
   ]
  },
  {
   "cell_type": "code",
   "execution_count": 36,
   "metadata": {},
   "outputs": [],
   "source": [
    "env1_df = pd.concat([SW2_df['loadcell_1'], SW2_df.loc[:, 'temp':'permit']], axis=1)\n",
    "env2_df = pd.concat([SW2_df['loadcell_2'], SW2_df.loc[:, 'temp':'permit']], axis=1)\n",
    "env3_df = pd.concat([SW2_df['loadcell_3'], SW2_df.loc[:, 'temp':'permit']], axis=1)\n",
    "env1_df.columns = [['system_w', 'temp', 'hum', 'rad', 'subs_VWC', 'subs_EC', 'subs_bulk_EC', 'subs_temp', 'permit']]\n",
    "env2_df.columns = [['system_w', 'temp', 'hum', 'rad', 'subs_VWC', 'subs_EC', 'subs_bulk_EC', 'subs_temp', 'permit']]\n",
    "env3_df.columns = [['system_w', 'temp', 'hum', 'rad', 'subs_VWC', 'subs_EC', 'subs_bulk_EC', 'subs_temp', 'permit']]"
   ]
  },
  {
   "cell_type": "code",
   "execution_count": 37,
   "metadata": {},
   "outputs": [],
   "source": [
    "env_df = pd.concat([env1_df, env2_df, env3_df])"
   ]
  },
  {
   "cell_type": "code",
   "execution_count": 38,
   "metadata": {},
   "outputs": [],
   "source": [
    "weight_df = pd.concat([CT1_weight_df, CT2_weight_df, CT3_weight_df])"
   ]
  },
  {
   "cell_type": "code",
   "execution_count": 39,
   "metadata": {},
   "outputs": [],
   "source": [
    "INPUT_MAXS = env_df.max()\n",
    "INPUT_MINS = env_df.min()\n",
    "OUTPUT_MAXS = weight_df.max()\n",
    "OUTPUT_MINS = weight_df.min()"
   ]
  },
  {
   "cell_type": "code",
   "execution_count": 40,
   "metadata": {},
   "outputs": [],
   "source": [
    "env_df = (env_df - INPUT_MINS)/(INPUT_MAXS - INPUT_MINS)\n",
    "weight_df = (weight_df - OUTPUT_MINS)/(OUTPUT_MAXS - OUTPUT_MINS)"
   ]
  },
  {
   "cell_type": "code",
   "execution_count": 41,
   "metadata": {},
   "outputs": [],
   "source": [
    "env_data = env_df.values.reshape(-1, 1440, 9)\n",
    "weight_data = weight_df.values"
   ]
  },
  {
   "cell_type": "markdown",
   "metadata": {},
   "source": [
    "# 나중에 수정해야 함."
   ]
  },
  {
   "cell_type": "code",
   "execution_count": 42,
   "metadata": {},
   "outputs": [],
   "source": [
    "f = open('./results/2020_S/modeling_dataset.npz', 'wb')\n",
    "np.savez(f,\n",
    "         output_columns = weight_df.columns,\n",
    "         input_indices = env_df.index,\n",
    "         output_indices = weight_df.index,\n",
    "         input_data = env_data,\n",
    "         output_label = weight_data,\n",
    "         INPUT_MAXS = INPUT_MAXS.values,\n",
    "         INPUT_MINS = INPUT_MINS.values,\n",
    "         OUTPUT_MAXS = OUTPUT_MAXS.values,\n",
    "         OUTPUT_MINS = OUTPUT_MINS.values\n",
    "        )\n",
    "f.close()"
   ]
  },
  {
   "cell_type": "markdown",
   "metadata": {},
   "source": [
    "# 2020 Winter"
   ]
  },
  {
   "cell_type": "markdown",
   "metadata": {},
   "source": [
    "## Plant growth factors"
   ]
  },
  {
   "cell_type": "code",
   "execution_count": null,
   "metadata": {},
   "outputs": [],
   "source": [
    "pg_df = []"
   ]
  },
  {
   "cell_type": "code",
   "execution_count": null,
   "metadata": {},
   "outputs": [],
   "source": [
    "temp_df = pd.read_csv('../ch2_weighing/results/2020_W/node_length.csv', index_col='Unnamed: 0')\n",
    "temp_df.columns = temp_df.columns.astype('int64')\n",
    "\n",
    "temp_index = temp_df.index\n",
    "temp_df.index = pd.DatetimeIndex(temp_df.index)\n",
    "\n",
    "l = []\n",
    "l_i = []\n",
    "for _ in range(temp_df.shape[0]):\n",
    "    ll = temp_df.iloc[_].dropna()\n",
    "    l.extend(ll.values)\n",
    "    l_i.extend([temp_df.index[_]]*ll.shape[0])\n",
    "temp_df = pd.DataFrame(l, index=l_i, columns=['node_len'])\n",
    "\n",
    "pg_df.append(temp_df)"
   ]
  },
  {
   "cell_type": "code",
   "execution_count": null,
   "metadata": {},
   "outputs": [],
   "source": [
    "temp_df = pd.read_csv('../ch2_weighing/results/2020_W/node_diameter.csv', index_col='Unnamed: 0')\n",
    "temp_df.columns = temp_df.columns.astype('int64')\n",
    "\n",
    "temp_index = temp_df.index\n",
    "temp_df.index = pd.DatetimeIndex(temp_df.index)\n",
    "\n",
    "l = []\n",
    "l_i = []\n",
    "for _ in range(temp_df.shape[0]):\n",
    "    ll = temp_df.iloc[_].dropna()\n",
    "    l.extend(ll.values)\n",
    "    l_i.extend([temp_df.index[_]]*ll.shape[0])\n",
    "temp_df = pd.DataFrame(l, index=l_i, columns=['node_dia'])\n",
    "\n",
    "pg_df.append(temp_df)"
   ]
  },
  {
   "cell_type": "code",
   "execution_count": null,
   "metadata": {},
   "outputs": [],
   "source": [
    "temp_df = pd.read_csv('../ch2_weighing/results/2020_W/plant_height.csv', index_col='Unnamed: 0')\n",
    "temp_df.columns = temp_df.columns.astype('int64')\n",
    "\n",
    "temp_index = temp_df.index\n",
    "temp_df.index = pd.DatetimeIndex(temp_df.index)\n",
    "\n",
    "l = []\n",
    "l_i = []\n",
    "for _ in range(temp_df.shape[0]):\n",
    "    ll = temp_df.iloc[_].dropna()\n",
    "    l.extend(ll.values)\n",
    "    l_i.extend([temp_df.index[_]]*ll.shape[0])\n",
    "temp_df = pd.DataFrame(l, index=l_i, columns=['plant_h'])\n",
    "\n",
    "pg_df.append(temp_df)"
   ]
  },
  {
   "cell_type": "code",
   "execution_count": null,
   "metadata": {},
   "outputs": [],
   "source": [
    "temp_df = pd.read_csv('../ch2_weighing/results/2020_W/leaf_area.csv', index_col='Unnamed: 0')/10000\n",
    "temp_index = temp_df.index\n",
    "temp_df.index = pd.DatetimeIndex(temp_df.index)\n",
    "pg_df.append(temp_df)"
   ]
  },
  {
   "cell_type": "code",
   "execution_count": null,
   "metadata": {},
   "outputs": [],
   "source": [
    "pg_df = pd.concat(pg_df, axis=1)\n",
    "pg_df['DAT'] = [15]*3 + [50]*6 + [80]*6 + [108]*3 + [153]*15\n",
    "pg_df['date'] = pg_df.index\n",
    "pg_df = pg_df.set_index(['DAT'])"
   ]
  },
  {
   "cell_type": "code",
   "execution_count": null,
   "metadata": {},
   "outputs": [],
   "source": [
    "pg_reg_df = []\n",
    "plot_x = [_ for _ in range(10, 155)]\n",
    "date_x = pd.date_range('2020-09-04', '2021-01-26', freq='1d')"
   ]
  },
  {
   "cell_type": "code",
   "execution_count": null,
   "metadata": {},
   "outputs": [],
   "source": [
    "def sigmoid(x, L, k, x0, b):\n",
    "    return L / (b + np.exp(-k*(x-x0)))"
   ]
  },
  {
   "cell_type": "code",
   "execution_count": null,
   "metadata": {},
   "outputs": [],
   "source": [
    "x = pg_df.index\n",
    "y = pg_df['node_len']*10\n",
    "popt, pcov = curve_fit(sigmoid, x, y, method='trf')\n",
    "print(r2_score(y, sigmoid(x, *popt)))\n",
    "\n",
    "plot_y = sigmoid(plot_x, *popt)\n",
    "pg_reg_df.append(plot_y/10)"
   ]
  },
  {
   "cell_type": "code",
   "execution_count": null,
   "metadata": {},
   "outputs": [],
   "source": [
    "x = pg_df.index\n",
    "y = pg_df['node_dia']*10\n",
    "popt, pcov = curve_fit(sigmoid, x, y, method='trf')\n",
    "print(r2_score(y, sigmoid(x, *popt)))\n",
    "\n",
    "plot_y = sigmoid(plot_x, *popt)\n",
    "pg_reg_df.append(plot_y/10)"
   ]
  },
  {
   "cell_type": "code",
   "execution_count": null,
   "metadata": {},
   "outputs": [],
   "source": [
    "x = pg_df.index\n",
    "y = pg_df['plant_h']\n",
    "popt, pcov = curve_fit(sigmoid, x, y, method='trf')\n",
    "print(r2_score(y, sigmoid(x, *popt)))\n",
    "\n",
    "plot_y = sigmoid(plot_x, *popt)\n",
    "pg_reg_df.append(plot_y)"
   ]
  },
  {
   "cell_type": "code",
   "execution_count": null,
   "metadata": {},
   "outputs": [],
   "source": [
    "x = pg_df.index\n",
    "y = pg_df['leaf_area']*1000\n",
    "popt, pcov = curve_fit(sigmoid, x, y, method='trf')\n",
    "print(r2_score(y, sigmoid(x, *popt)))\n",
    "\n",
    "plot_y = sigmoid(plot_x, *popt)\n",
    "pg_reg_df.append(plot_y/1000)"
   ]
  },
  {
   "cell_type": "code",
   "execution_count": null,
   "metadata": {},
   "outputs": [],
   "source": [
    "pg_reg_df = pd.DataFrame(pg_reg_df).T\n",
    "pg_reg_df.columns = ['node_len', 'node_dia', 'plant_h', 'leaf_area']\n",
    "pg_reg_df.index = date_x"
   ]
  },
  {
   "cell_type": "markdown",
   "metadata": {},
   "source": [
    "## Fresh weight (device)"
   ]
  },
  {
   "cell_type": "code",
   "execution_count": null,
   "metadata": {},
   "outputs": [],
   "source": [
    "SW2_df = pd.read_csv('./results/2020_W/SW_CT_greenhouse.csv', index_col='Unnamed: 0')\n",
    "SW2_df.index = pd.DatetimeIndex(SW2_df.index)\n",
    "\n",
    "SW2_df = SW2_df.loc['2020-08-26 00:00:00': '2021-01-24 23:59:00']\n",
    "SW2_df = SW2_df.interpolate()"
   ]
  },
  {
   "cell_type": "code",
   "execution_count": null,
   "metadata": {},
   "outputs": [],
   "source": [
    "rockwool_slab = np.array([626, 708, 650, 642])\n",
    "rockwool_cube = np.array([48, 46, 50, 48, 46])\n",
    "rockwool = (rockwool_slab + rockwool_cube.mean()*3)/1000\n",
    "rockwool_mean = rockwool.mean()"
   ]
  },
  {
   "cell_type": "code",
   "execution_count": null,
   "metadata": {},
   "outputs": [],
   "source": [
    "substrate_volume = (120*12*7.5 + 10*10*6.5*3)/1000\n",
    "water_w_df = substrate_volume*SW2_df['subs_VWC']/100\n",
    "SW2_df['water'] = water_w_df"
   ]
  },
  {
   "cell_type": "code",
   "execution_count": null,
   "metadata": {},
   "outputs": [],
   "source": [
    "SW2_df.loc[:, 'loadcell_1'] = SW2_df.loc[:, 'loadcell_1'] - 0.8\n",
    "SW2_df.loc[:, 'loadcell_2'] = SW2_df.loc[:, 'loadcell_2'] - 0.5\n",
    "SW2_df.loc[:, 'loadcell_3'] = SW2_df.loc[:, 'loadcell_3'] - 0.8"
   ]
  },
  {
   "cell_type": "code",
   "execution_count": null,
   "metadata": {},
   "outputs": [],
   "source": [
    "weight_df = pd.read_csv('./results/2020_W/ct_weight.csv', index_col='Unnamed: 0')\n",
    "weight_df.index = pd.DatetimeIndex(weight_df.index)\n",
    "wweight_df = weight_df[['Stem FW', 'Leaf FW', 'petiole FW', 'Idv fruit FW']].sum(axis=1)"
   ]
  },
  {
   "cell_type": "code",
   "execution_count": null,
   "metadata": {},
   "outputs": [],
   "source": [
    "roots_DW = np.array([301.25, 293.55, 315.15, 356.45, 341.55, 267.65, 303.55, 231.05, 253.05, 272.35, 334.35])/1000\n",
    "roots_DW_mean = roots_DW.mean()\n",
    "rs_ratio_df = pd.DataFrame([0.23255813953488372, 0.14789272030651343, 0.11954022988505748, 0.13678160919540233, 0.2835814088817321], index=weight_df.index.unique(), columns=['RS_ratio'])\n",
    "DW_sum_df = weight_df[[col for col in weight_df.columns if col.endswith('DW')]].sum(axis=1).groupby(weight_df.index).mean()"
   ]
  },
  {
   "cell_type": "code",
   "execution_count": null,
   "metadata": {},
   "outputs": [],
   "source": [
    "roots_df = (DW_sum_df.T * rs_ratio_df.T).T\n",
    "roots_df.columns = ['root DW']\n",
    "roots_df['root FW'] = roots_df['root DW']/0.1325\n",
    "roots_df.index = pd.DatetimeIndex(roots_df.index)\n",
    "wweight_wr_df = wweight_df.add(roots_df['root FW'])"
   ]
  },
  {
   "cell_type": "code",
   "execution_count": null,
   "metadata": {},
   "outputs": [],
   "source": [
    "night_df = SW2_df.loc[SW2_df['rad'] <= 0.2, 'loadcell_1':'loadcell_3']"
   ]
  },
  {
   "cell_type": "code",
   "execution_count": null,
   "metadata": {},
   "outputs": [],
   "source": [
    "device_df = pd.concat([(night_df.resample('1d').mean()['loadcell_1'] - SW2_df['water'].resample('1d').mean())/3-0.5,\n",
    "                       (night_df.resample('1d').mean()['loadcell_2'] - SW2_df['water'].resample('1d').mean())/3-0.5,\n",
    "                       (night_df.resample('1d').mean()['loadcell_3'] - SW2_df['water'].resample('1d').mean())/3-0.3], axis=1)\n",
    "device_df.columns = ['CT_1', 'CT_2', 'CT_3']"
   ]
  },
  {
   "cell_type": "code",
   "execution_count": null,
   "metadata": {},
   "outputs": [],
   "source": [
    "pg_reg_df.head()"
   ]
  },
  {
   "cell_type": "code",
   "execution_count": null,
   "metadata": {},
   "outputs": [],
   "source": [
    "device_df.head()"
   ]
  }
 ],
 "metadata": {
  "kernelspec": {
   "display_name": "tf20",
   "language": "python",
   "name": "tf20"
  },
  "language_info": {
   "codemirror_mode": {
    "name": "ipython",
    "version": 3
   },
   "file_extension": ".py",
   "mimetype": "text/x-python",
   "name": "python",
   "nbconvert_exporter": "python",
   "pygments_lexer": "ipython3",
   "version": "3.6.9"
  }
 },
 "nbformat": 4,
 "nbformat_minor": 4
}
