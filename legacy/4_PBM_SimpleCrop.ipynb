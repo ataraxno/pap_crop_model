{
 "cells": [
  {
   "cell_type": "markdown",
   "metadata": {},
   "source": [
    "# Packages"
   ]
  },
  {
   "cell_type": "code",
   "execution_count": 1,
   "metadata": {},
   "outputs": [],
   "source": [
    "import sys\n",
    "sys.path.append('../')\n",
    "\n",
    "import numpy as np\n",
    "import pandas as pd\n",
    "\n",
    "from PyDSSAT import SimpleCrop"
   ]
  },
  {
   "cell_type": "markdown",
   "metadata": {},
   "source": [
    "# Parameters"
   ]
  },
  {
   "cell_type": "code",
   "execution_count": 2,
   "metadata": {},
   "outputs": [],
   "source": [
    "START_DATE = '2020-02-26'\n",
    "END_DATE = '2020-07-03'"
   ]
  },
  {
   "cell_type": "code",
   "execution_count": 3,
   "metadata": {},
   "outputs": [
    {
     "name": "stdout",
     "output_type": "stream",
     "text": [
      "Cultivation period: 128 days\n",
      "Starting DOY: 57\n"
     ]
    }
   ],
   "source": [
    "START_DATE = pd.Timestamp(START_DATE)\n",
    "END_DATE = pd.Timestamp(END_DATE)\n",
    "\n",
    "print(f'Cultivation period: {(END_DATE - START_DATE).days} days')\n",
    "print(f'Starting DOY: {START_DATE.dayofyear}')"
   ]
  },
  {
   "cell_type": "markdown",
   "metadata": {},
   "source": [
    "# Preparing weather data"
   ]
  },
  {
   "cell_type": "code",
   "execution_count": 4,
   "metadata": {},
   "outputs": [],
   "source": [
    "env_df = pd.read_csv('../ch2-1_weighing/results/2020_S/SW2_greenhouse.csv', index_col='Unnamed: 0')\n",
    "env_df.index = pd.DatetimeIndex(env_df.index)\n",
    "env_df.loc[env_df['rad'] < 5, 'rad'] = 0"
   ]
  },
  {
   "cell_type": "code",
   "execution_count": 5,
   "metadata": {},
   "outputs": [],
   "source": [
    "rad_df = env_df['rad'].resample('H').mean()*2.54\n",
    "rad_df = rad_df.resample('D').sum()*3600/1e6"
   ]
  },
  {
   "cell_type": "code",
   "execution_count": 6,
   "metadata": {},
   "outputs": [],
   "source": [
    "temp_max_df = env_df['temp'].resample('D').max()\n",
    "temp_min_df = env_df['temp'].resample('D').min()"
   ]
  },
  {
   "cell_type": "code",
   "execution_count": 7,
   "metadata": {},
   "outputs": [],
   "source": [
    "weather_df = pd.concat([rad_df, temp_max_df, temp_min_df], axis=1)"
   ]
  },
  {
   "cell_type": "code",
   "execution_count": 8,
   "metadata": {},
   "outputs": [],
   "source": [
    "weather_df['rain'] = 0\n",
    "weather_df['par'] = weather_df['rad']/2"
   ]
  },
  {
   "cell_type": "code",
   "execution_count": 9,
   "metadata": {},
   "outputs": [],
   "source": [
    "weather_df.columns = ['rad', 't_max', 't_min', 'rain', 'par']"
   ]
  },
  {
   "cell_type": "code",
   "execution_count": 10,
   "metadata": {},
   "outputs": [],
   "source": [
    "doy_index = weather_df.index.strftime('%y') + weather_df.index.dayofyear.map('{:03d}'.format)\n",
    "doy_index = doy_index.astype('int64')"
   ]
  },
  {
   "cell_type": "code",
   "execution_count": 11,
   "metadata": {},
   "outputs": [],
   "source": [
    "weather_df.index = doy_index"
   ]
  },
  {
   "cell_type": "code",
   "execution_count": 12,
   "metadata": {},
   "outputs": [],
   "source": [
    "weather_df.to_csv('./results/weather.csv')"
   ]
  },
  {
   "cell_type": "markdown",
   "metadata": {},
   "source": [
    "# Preparing soil data"
   ]
  },
  {
   "cell_type": "code",
   "execution_count": 13,
   "metadata": {},
   "outputs": [],
   "source": [
    "soil_values = np.array([0.06, 0.17, 0.28, 145.000, 0.10, 55.00, 246.5]).T\n",
    "soil_columns = ['WPp', 'FCp', 'STp', 'DP', 'DRNp', 'CN', 'SWC']"
   ]
  },
  {
   "cell_type": "code",
   "execution_count": 14,
   "metadata": {},
   "outputs": [],
   "source": [
    "soil_df = pd.DataFrame(soil_values, index=soil_columns, columns=['value']).T"
   ]
  },
  {
   "cell_type": "code",
   "execution_count": 15,
   "metadata": {},
   "outputs": [],
   "source": [
    "soil_df.to_csv('./results/soil.csv')"
   ]
  }
 ],
 "metadata": {
  "kernelspec": {
   "display_name": "tf20",
   "language": "python",
   "name": "tf20"
  },
  "language_info": {
   "codemirror_mode": {
    "name": "ipython",
    "version": 3
   },
   "file_extension": ".py",
   "mimetype": "text/x-python",
   "name": "python",
   "nbconvert_exporter": "python",
   "pygments_lexer": "ipython3",
   "version": "3.6.9"
  }
 },
 "nbformat": 4,
 "nbformat_minor": 4
}
