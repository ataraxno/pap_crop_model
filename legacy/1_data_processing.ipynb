{
 "cells": [
  {
   "cell_type": "code",
   "execution_count": 1,
   "metadata": {},
   "outputs": [],
   "source": [
    "import os\n",
    "\n",
    "import numpy as np\n",
    "import pandas as pd"
   ]
  },
  {
   "cell_type": "markdown",
   "metadata": {},
   "source": [
    "# 2020 Summer"
   ]
  },
  {
   "cell_type": "markdown",
   "metadata": {},
   "source": [
    "# Control"
   ]
  },
  {
   "cell_type": "code",
   "execution_count": 2,
   "metadata": {},
   "outputs": [],
   "source": [
    "DIRECTORY = '../ch2-1_weighing/data/2020_S/'\n",
    "file_list = os.listdir(DIRECTORY)\n",
    "dataset_list = [file for file in file_list if file.endswith('.dat')]\n",
    "dataset_list.sort()"
   ]
  },
  {
   "cell_type": "code",
   "execution_count": 3,
   "metadata": {},
   "outputs": [
    {
     "data": {
      "text/plain": [
       "['CR1000_Table1_2020_05_06_21_19_15.dat',\n",
       " 'CR1000_Table1_2020_05_13_21_19_15.dat',\n",
       " 'CR1000_Table1_2020_05_25_14_35_46.dat',\n",
       " 'CR1000_Table1_2020_06_10_16_29_39.dat',\n",
       " 'CR1000_Table1_2020_06_18_15_51_17.dat',\n",
       " 'CR1000_Table1_2020_07_13_15_19_58.dat']"
      ]
     },
     "execution_count": 3,
     "metadata": {},
     "output_type": "execute_result"
    }
   ],
   "source": [
    "dataset_list"
   ]
  },
  {
   "cell_type": "code",
   "execution_count": null,
   "metadata": {},
   "outputs": [],
   "source": [
    "greenhouse_df = []\n",
    "for FILENAME in dataset_list:\n",
    "    temp_df = pd.read_csv(DIRECTORY + FILENAME, sep=',', index_col='TIMESTAMP', skiprows=[0, 2, 3])\n",
    "    greenhouse_df.append(temp_df)\n",
    "greenhouse_df = pd.concat(greenhouse_df)"
   ]
  },
  {
   "cell_type": "code",
   "execution_count": null,
   "metadata": {},
   "outputs": [],
   "source": [
    "greenhouse_df.index = pd.DatetimeIndex(greenhouse_df.index)"
   ]
  },
  {
   "cell_type": "code",
   "execution_count": null,
   "metadata": {},
   "outputs": [],
   "source": [
    "cr1000_df = greenhouse_df\n",
    "cr1000_df = cr1000_df[['Loadcell_1', 'Loadcell_2', 'Pyrano_Wsec_1', 'Temp_Avg', 'Humid_Avg']]"
   ]
  },
  {
   "cell_type": "code",
   "execution_count": null,
   "metadata": {},
   "outputs": [],
   "source": [
    "date_index = pd.date_range(cr1000_df.index[0], cr1000_df.index[-1], freq='1 min')"
   ]
  },
  {
   "cell_type": "code",
   "execution_count": null,
   "metadata": {},
   "outputs": [],
   "source": [
    "cr1000_df = cr1000_df.reindex(date_index)"
   ]
  },
  {
   "cell_type": "code",
   "execution_count": null,
   "metadata": {},
   "outputs": [],
   "source": [
    "DIRECTORY = './data/2020_S/'\n",
    "file_list = os.listdir(DIRECTORY)\n",
    "dataset_list = [file for file in file_list if file.endswith('.xlsx')]\n",
    "dataset_list.sort()"
   ]
  },
  {
   "cell_type": "code",
   "execution_count": null,
   "metadata": {},
   "outputs": [],
   "source": [
    "greenhouse_df = []\n",
    "divider = 0\n",
    "for FILENAME in dataset_list:\n",
    "    if 'A2' in FILENAME:\n",
    "        divider += 1\n",
    "    temp_df = pd.read_excel(DIRECTORY + FILENAME, index_col='date')\n",
    "    temp_df.index = pd.DatetimeIndex(temp_df.index)\n",
    "    temp_df = temp_df[['weight', 'subs_VWC', 'subs_EC', 'subs_bulk_EC', 'subs_temp', 'permittivity']]\n",
    "    greenhouse_df.append(temp_df)"
   ]
  },
  {
   "cell_type": "code",
   "execution_count": null,
   "metadata": {},
   "outputs": [],
   "source": [
    "for i in range(len(greenhouse_df)):\n",
    "    if greenhouse_df[i].index.round('1 min')[0].minute == 1:\n",
    "        greenhouse_df[i].index = (greenhouse_df[i].index.round('1 min') - pd.Timedelta('1 min'))\n",
    "    elif greenhouse_df[i].index.round('1 min')[0].minute == 2:\n",
    "        greenhouse_df[i].index = (greenhouse_df[i].index.round('2 min') - pd.Timedelta('2 min'))\n",
    "    else:\n",
    "        greenhouse_df[i].index = greenhouse_df[i].index.round('1 min')"
   ]
  },
  {
   "cell_type": "code",
   "execution_count": null,
   "metadata": {},
   "outputs": [],
   "source": [
    "for i in range(len(greenhouse_df)):\n",
    "    greenhouse_df[i] = greenhouse_df[i].groupby(greenhouse_df[i].index).first()"
   ]
  },
  {
   "cell_type": "code",
   "execution_count": null,
   "metadata": {},
   "outputs": [],
   "source": [
    "date_index = pd.date_range(greenhouse_df[0].index[0], greenhouse_df[-1].index[-1], freq='1 min')"
   ]
  },
  {
   "cell_type": "code",
   "execution_count": null,
   "metadata": {},
   "outputs": [],
   "source": [
    "_1 = pd.concat(greenhouse_df[:divider]).reindex(date_index)\n",
    "_2 = pd.concat(greenhouse_df[divider:]).reindex(date_index)"
   ]
  },
  {
   "cell_type": "code",
   "execution_count": null,
   "metadata": {},
   "outputs": [],
   "source": [
    "_1.columns = ['Loadcell_3', 'subs_VWC', 'subs_EC', 'subs_bulk_EC', 'subs_temp', 'permittivity']\n",
    "_2.columns = ['Loadcell_4', 'subs_VWC', 'subs_EC', 'subs_bulk_EC', 'subs_temp', 'permittivity']"
   ]
  },
  {
   "cell_type": "code",
   "execution_count": null,
   "metadata": {},
   "outputs": [],
   "source": [
    "_1"
   ]
  },
  {
   "cell_type": "code",
   "execution_count": null,
   "metadata": {},
   "outputs": [],
   "source": [
    "SW2_df = pd.concat([_1.loc[pd.date_range(cr1000_df.index[0], _1.index[-1], freq='1 min')],\n",
    "                    cr1000_df.loc[pd.date_range(cr1000_df.index[0], _1.index[-1], freq='1 min')]], axis=1)"
   ]
  },
  {
   "cell_type": "code",
   "execution_count": null,
   "metadata": {},
   "outputs": [],
   "source": [
    "SW2_df.columns = ['loadcell_3', 'subs_VWC', 'subs_EC', 'subs_bulk_EC', 'subs_temp', 'permit', 'loadcell_1', 'loadcell_2', 'rad', 'temp', 'hum']"
   ]
  },
  {
   "cell_type": "code",
   "execution_count": null,
   "metadata": {},
   "outputs": [],
   "source": [
    "SW2_df = SW2_df[['temp', 'hum', 'rad', 'subs_VWC', 'subs_EC', 'subs_bulk_EC', 'subs_temp', 'permit', 'loadcell_1', 'loadcell_2', 'loadcell_3']]"
   ]
  },
  {
   "cell_type": "code",
   "execution_count": null,
   "metadata": {},
   "outputs": [],
   "source": [
    "SW2_df['temp'] = ((SW2_df['temp']-1000)/80)\n",
    "SW2_df['hum'] = ((SW2_df['hum']-1000)/40)\n",
    "SW2_df['loadcell_1'] = ((SW2_df['loadcell_1']/100))\n",
    "SW2_df['loadcell_2'] = ((SW2_df['loadcell_2']/100))"
   ]
  },
  {
   "cell_type": "code",
   "execution_count": null,
   "metadata": {},
   "outputs": [],
   "source": [
    "SW2_df.to_csv('./results/2020_S/SW2_greenhouse_origin.csv')"
   ]
  },
  {
   "cell_type": "markdown",
   "metadata": {},
   "source": [
    "# Far-red"
   ]
  },
  {
   "cell_type": "code",
   "execution_count": null,
   "metadata": {},
   "outputs": [],
   "source": [
    "cr1000_a3_df = pd.read_csv('./data/2020_S/A3/A3_data.csv')\n",
    "cr1000_a3_df['date'] = cr1000_a3_df['date'].str.cat(cr1000_a3_df['time'], sep=' ')\n",
    "cr1000_a3_df.index = cr1000_a3_df['date']\n",
    "cr1000_a3_df = cr1000_a3_df.drop(['date', 'time'], axis=1)\n",
    "cr1000_a3_df.index = pd.DatetimeIndex(cr1000_a3_df.index)"
   ]
  },
  {
   "cell_type": "code",
   "execution_count": null,
   "metadata": {},
   "outputs": [],
   "source": [
    "cr1000_a3_df = cr1000_a3_df.groupby(cr1000_a3_df.index).mean()\n",
    "cr1000_a3_df = cr1000_a3_df.reindex(pd.date_range(cr1000_a3_df.index[0], cr1000_a3_df.index[-1], freq='1 min')).interpolate()\n",
    "cr1000_a3_df['Pyrano_Wsec'] = (cr1000_a3_df.loc[:, 'Pyrano_Wsec_1'] + cr1000_a3_df.loc[:, 'Pyrano_Wsec_2'])/2\n",
    "cr1000_a3_df = cr1000_a3_df[['Pyrano_Wsec', 'Temp_Avg', 'Humid_Avg']]"
   ]
  },
  {
   "cell_type": "code",
   "execution_count": null,
   "metadata": {},
   "outputs": [],
   "source": [
    "SW2_df = pd.concat([_2.loc[pd.date_range(cr1000_a3_df.index[0], _2.index[-1], freq='1 min')],\n",
    "                    cr1000_a3_df.loc[pd.date_range(cr1000_a3_df.index[0], _2.index[-1], freq='1 min')]], axis=1)"
   ]
  },
  {
   "cell_type": "code",
   "execution_count": null,
   "metadata": {},
   "outputs": [],
   "source": [
    "SW2_df"
   ]
  },
  {
   "cell_type": "code",
   "execution_count": null,
   "metadata": {},
   "outputs": [],
   "source": [
    "SW2_df.columns = ['loadcell_4', 'subs_VWC', 'subs_EC', 'subs_bulk_EC', 'subs_temp', 'permit', 'rad', 'temp', 'hum']"
   ]
  },
  {
   "cell_type": "code",
   "execution_count": null,
   "metadata": {},
   "outputs": [],
   "source": [
    "SW2_df = SW2_df[['temp', 'hum', 'rad', 'subs_VWC', 'subs_EC', 'subs_bulk_EC', 'subs_temp', 'permit', 'loadcell_4']]"
   ]
  },
  {
   "cell_type": "code",
   "execution_count": null,
   "metadata": {},
   "outputs": [],
   "source": [
    "SW2_df.to_csv('./results/2020_S/SW2_FR_greenhouse_origin.csv')"
   ]
  },
  {
   "cell_type": "markdown",
   "metadata": {},
   "source": [
    "# 2020 Winter"
   ]
  },
  {
   "cell_type": "markdown",
   "metadata": {},
   "source": [
    "# Control"
   ]
  },
  {
   "cell_type": "code",
   "execution_count": null,
   "metadata": {},
   "outputs": [],
   "source": [
    "DIRECTORY = './data/2020_W/'\n",
    "file_list = os.listdir(DIRECTORY)\n",
    "dataset_list = [file for file in file_list if file.endswith('.dat')]\n",
    "dataset_list.sort()"
   ]
  },
  {
   "cell_type": "code",
   "execution_count": null,
   "metadata": {},
   "outputs": [],
   "source": [
    "dataset_list"
   ]
  },
  {
   "cell_type": "code",
   "execution_count": null,
   "metadata": {},
   "outputs": [],
   "source": [
    "greenhouse_df = []\n",
    "for FILENAME in dataset_list:\n",
    "    try:\n",
    "        temp_df = pd.read_csv(DIRECTORY + FILENAME, sep='\\t', index_col='TIMESTAMP', skiprows=[0, 2, 3])\n",
    "    except ValueError:\n",
    "        temp_df = pd.read_csv(DIRECTORY + FILENAME, sep=',', index_col='TIMESTAMP', skiprows=[0, 2, 3])\n",
    "    greenhouse_df.append(temp_df)\n",
    "greenhouse_df = pd.concat(greenhouse_df, sort=True)"
   ]
  },
  {
   "cell_type": "code",
   "execution_count": null,
   "metadata": {},
   "outputs": [],
   "source": [
    "greenhouse_df.index = pd.DatetimeIndex(greenhouse_df.index)"
   ]
  },
  {
   "cell_type": "code",
   "execution_count": null,
   "metadata": {},
   "outputs": [],
   "source": [
    "cr1000_df = greenhouse_df\n",
    "cr1000_df = cr1000_df[['Loadcell_1', 'Loadcell_2', 'Pyrano_Wsec_1', 'Temp_Avg', 'Humid_Avg']]"
   ]
  },
  {
   "cell_type": "markdown",
   "metadata": {},
   "source": [
    "### 2020 Winter A3"
   ]
  },
  {
   "cell_type": "code",
   "execution_count": null,
   "metadata": {},
   "outputs": [],
   "source": [
    "DIRECTORY = './data/2020_W/A3_CR1000/'\n",
    "file_list = os.listdir(DIRECTORY)\n",
    "dataset_list = [file for file in file_list if file.endswith('.dat')]\n",
    "dataset_list.sort()"
   ]
  },
  {
   "cell_type": "code",
   "execution_count": null,
   "metadata": {},
   "outputs": [],
   "source": [
    "dataset_list"
   ]
  },
  {
   "cell_type": "code",
   "execution_count": null,
   "metadata": {},
   "outputs": [],
   "source": [
    "greenhouse_df = []\n",
    "for FILENAME in dataset_list:\n",
    "    try:\n",
    "        temp_df = pd.read_csv(DIRECTORY + FILENAME, sep='\\t', index_col='TIMESTAMP', skiprows=[0, 2, 3])\n",
    "    except ValueError:\n",
    "        temp_df = pd.read_csv(DIRECTORY + FILENAME, sep=',', index_col='TIMESTAMP', skiprows=[0, 2, 3])\n",
    "    greenhouse_df.append(temp_df)\n",
    "greenhouse_df = pd.concat(greenhouse_df, sort=True)"
   ]
  },
  {
   "cell_type": "code",
   "execution_count": null,
   "metadata": {},
   "outputs": [],
   "source": [
    "greenhouse_df.index = pd.DatetimeIndex(greenhouse_df.index)"
   ]
  },
  {
   "cell_type": "code",
   "execution_count": null,
   "metadata": {},
   "outputs": [],
   "source": [
    "greenhouse_df['Pyrano_Wsec'] = (greenhouse_df.loc[:, 'Pyrano_Wsec_1'] + greenhouse_df.loc[:, 'Pyrano_Wsec_2'])/2"
   ]
  },
  {
   "cell_type": "code",
   "execution_count": null,
   "metadata": {},
   "outputs": [],
   "source": [
    "cr1000_a3_df = greenhouse_df\n",
    "cr1000_a3_df = cr1000_a3_df[['Pyrano_Wsec', 'Temp_Avg', 'Humid_Avg']]"
   ]
  },
  {
   "cell_type": "markdown",
   "metadata": {},
   "source": [
    "#### date range"
   ]
  },
  {
   "cell_type": "code",
   "execution_count": null,
   "metadata": {},
   "outputs": [],
   "source": [
    "cr1000_df = cr1000_df.loc['2020-08-26 00:00:00':'2021-01-24 23:59:00']\n",
    "cr1000_a3_df = cr1000_a3_df.loc['2020-08-26 00:00:00':'2021-01-24 23:59:00']"
   ]
  },
  {
   "cell_type": "code",
   "execution_count": null,
   "metadata": {},
   "outputs": [],
   "source": [
    "date_index = pd.date_range(cr1000_df.index[0], cr1000_df.index[-1], freq='1 min')"
   ]
  },
  {
   "cell_type": "code",
   "execution_count": null,
   "metadata": {},
   "outputs": [],
   "source": [
    "cr1000_a3_df = cr1000_a3_df.reindex(date_index)"
   ]
  },
  {
   "cell_type": "code",
   "execution_count": null,
   "metadata": {},
   "outputs": [],
   "source": [
    "DIRECTORY = './data/2020_W/'\n",
    "file_list = os.listdir(DIRECTORY)\n",
    "dataset_list = [file for file in file_list if file.endswith('.xlsx')]\n",
    "dataset_list.sort()"
   ]
  },
  {
   "cell_type": "code",
   "execution_count": null,
   "metadata": {},
   "outputs": [],
   "source": [
    "dataset_list"
   ]
  },
  {
   "cell_type": "code",
   "execution_count": null,
   "metadata": {},
   "outputs": [],
   "source": [
    "greenhouse_df = []\n",
    "div_1 = 0\n",
    "div_2 = 0\n",
    "div_3 = 0\n",
    "for FILENAME in dataset_list:\n",
    "    if 'CT' in FILENAME:\n",
    "        div_1 += 1\n",
    "    if 'FR' in FILENAME:\n",
    "        div_2 += 1\n",
    "    if 'RB1' in FILENAME:\n",
    "        continue\n",
    "    if 'RB2' in FILENAME:\n",
    "        div_3 += 1\n",
    "    temp_df = pd.read_excel(DIRECTORY + FILENAME, index_col='date')\n",
    "    temp_df.index = pd.DatetimeIndex(temp_df.index)\n",
    "    temp_df = temp_df[['weight', 'subs_VWC', 'subs_EC', 'subs_bulk_EC', 'subs_temp', 'permittivity']]\n",
    "    greenhouse_df.append(temp_df)"
   ]
  },
  {
   "cell_type": "code",
   "execution_count": null,
   "metadata": {},
   "outputs": [],
   "source": [
    "for i in range(len(greenhouse_df)):\n",
    "    if greenhouse_df[i].index.round('1 min')[0].minute == 1:\n",
    "        greenhouse_df[i].index = (greenhouse_df[i].index.round('1 min') - pd.Timedelta('1 min'))\n",
    "    elif greenhouse_df[i].index.round('1 min')[0].minute == 2:\n",
    "        greenhouse_df[i].index = (greenhouse_df[i].index.round('2 min') - pd.Timedelta('2 min'))\n",
    "    else:\n",
    "        greenhouse_df[i].index = greenhouse_df[i].index.round('1 min')"
   ]
  },
  {
   "cell_type": "code",
   "execution_count": null,
   "metadata": {},
   "outputs": [],
   "source": [
    "for i in range(len(greenhouse_df)):\n",
    "    greenhouse_df[i] = greenhouse_df[i].groupby(greenhouse_df[i].index).first()"
   ]
  },
  {
   "cell_type": "code",
   "execution_count": null,
   "metadata": {},
   "outputs": [],
   "source": [
    "date_index = pd.date_range(greenhouse_df[0].index[0], greenhouse_df[-1].index[-1], freq='1 min')"
   ]
  },
  {
   "cell_type": "code",
   "execution_count": null,
   "metadata": {},
   "outputs": [],
   "source": [
    "other_df = []\n",
    "for FILENAME in dataset_list:\n",
    "    if 'RB1' in FILENAME:\n",
    "        temp_df = pd.read_excel(DIRECTORY + FILENAME, index_col='date')\n",
    "        temp_df.index = pd.DatetimeIndex(temp_df.index)\n",
    "        temp_df = temp_df[['weight']]\n",
    "        other_df.append(temp_df)\n",
    "    else:\n",
    "        continue"
   ]
  },
  {
   "cell_type": "code",
   "execution_count": null,
   "metadata": {},
   "outputs": [],
   "source": [
    "ct_df = pd.concat(greenhouse_df[:div_1]).reindex(date_index)\n",
    "fr_df = pd.concat(greenhouse_df[div_1:div_1+div_2]).reindex(date_index)\n",
    "rb_df = pd.concat(greenhouse_df[div_1+div_2:]).reindex(date_index)"
   ]
  },
  {
   "cell_type": "code",
   "execution_count": null,
   "metadata": {},
   "outputs": [],
   "source": [
    "ct_df.columns = ['Loadcell_3', 'subs_VWC', 'subs_EC', 'subs_bulk_EC', 'subs_temp', 'permittivity']"
   ]
  },
  {
   "cell_type": "code",
   "execution_count": null,
   "metadata": {},
   "outputs": [],
   "source": [
    "SW2_ct_df = pd.concat([ct_df.loc[pd.date_range(cr1000_df.index[0], ct_df.index[-1], freq='1 min')],\n",
    "                       cr1000_df.loc[pd.date_range(cr1000_df.index[0], ct_df.index[-1], freq='1 min')]], axis=1)"
   ]
  },
  {
   "cell_type": "code",
   "execution_count": null,
   "metadata": {},
   "outputs": [],
   "source": [
    "SW2_ct_df = SW2_ct_df.astype('float')"
   ]
  },
  {
   "cell_type": "code",
   "execution_count": null,
   "metadata": {},
   "outputs": [],
   "source": [
    "SW2_ct_df.columns = ['loadcell_3', 'subs_VWC', 'subs_EC', 'subs_bulk_EC', 'subs_temp', 'permit', 'loadcell_1', 'loadcell_2', 'rad', 'temp', 'hum']"
   ]
  },
  {
   "cell_type": "code",
   "execution_count": null,
   "metadata": {},
   "outputs": [],
   "source": [
    "SW2_ct_df = SW2_ct_df[['temp', 'hum', 'rad', 'subs_VWC', 'subs_EC', 'subs_bulk_EC', 'subs_temp', 'permit', 'loadcell_1', 'loadcell_2', 'loadcell_3']]"
   ]
  },
  {
   "cell_type": "code",
   "execution_count": null,
   "metadata": {},
   "outputs": [],
   "source": [
    "SW2_ct_df['temp'] = ((SW2_ct_df['temp']-1000)/80)\n",
    "SW2_ct_df['hum'] = ((SW2_ct_df['hum']-1000)/40)\n",
    "SW2_ct_df['loadcell_1'] = ((SW2_ct_df['loadcell_1']/100))\n",
    "SW2_ct_df['loadcell_2'] = ((SW2_ct_df['loadcell_2']/100))"
   ]
  },
  {
   "cell_type": "code",
   "execution_count": null,
   "metadata": {},
   "outputs": [],
   "source": [
    "SW2_ct_df.loc[:, 'loadcell_1'] = SW2_ct_df.loc[:, 'loadcell_1'] +11/100\n",
    "SW2_ct_df.loc[:, 'loadcell_2'] = SW2_ct_df.loc[:, 'loadcell_2'] -388/100 #calibration\n",
    "SW2_ct_df.loc[:, 'loadcell_3'] = SW2_ct_df.loc[:, 'loadcell_3']*2 -8.3"
   ]
  },
  {
   "cell_type": "code",
   "execution_count": null,
   "metadata": {},
   "outputs": [],
   "source": [
    "SW2_ct_df.to_csv('./results/2020_W/SW_CT_greenhouse_origin.csv')"
   ]
  },
  {
   "cell_type": "code",
   "execution_count": null,
   "metadata": {},
   "outputs": [],
   "source": [
    "SW2_ct_df.loc[:, 'loadcell_1'] = SW2_ct_df.loc[:, 'loadcell_1'] - 0.8\n",
    "SW2_ct_df.loc[:, 'loadcell_2'] = SW2_ct_df.loc[:, 'loadcell_2'] - 0.5\n",
    "SW2_ct_df.loc[:, 'loadcell_3'] = SW2_ct_df.loc[:, 'loadcell_3'] - 0.8"
   ]
  },
  {
   "cell_type": "code",
   "execution_count": null,
   "metadata": {},
   "outputs": [],
   "source": [
    "other_df = pd.concat(other_df).reindex(date_index)"
   ]
  },
  {
   "cell_type": "code",
   "execution_count": null,
   "metadata": {},
   "outputs": [],
   "source": [
    "rb_df['weight2'] = other_df.values"
   ]
  },
  {
   "cell_type": "code",
   "execution_count": null,
   "metadata": {},
   "outputs": [],
   "source": [
    "fr_df.columns = ['Loadcell_4', 'subs_VWC', 'subs_EC', 'subs_bulk_EC', 'subs_temp', 'permittivity']\n",
    "rb_df.columns = ['Loadcell_6', 'subs_VWC', 'subs_EC', 'subs_bulk_EC', 'subs_temp', 'permittivity', 'Loadcell_5']"
   ]
  },
  {
   "cell_type": "code",
   "execution_count": null,
   "metadata": {},
   "outputs": [],
   "source": [
    "SW2_fr_df = pd.concat([fr_df.loc[pd.date_range(cr1000_a3_df.index[0], fr_df.index[-1], freq='1 min')],\n",
    "                       cr1000_a3_df.loc[pd.date_range(cr1000_a3_df.index[0], fr_df.index[-1], freq='1 min')]], axis=1)\n",
    "SW2_rb_df = pd.concat([rb_df.loc[pd.date_range(cr1000_a3_df.index[0], rb_df.index[-1], freq='1 min')],\n",
    "                       cr1000_a3_df.loc[pd.date_range(cr1000_a3_df.index[0], rb_df.index[-1], freq='1 min')]], axis=1)"
   ]
  },
  {
   "cell_type": "code",
   "execution_count": null,
   "metadata": {},
   "outputs": [],
   "source": [
    "SW2_fr_df.columns = ['loadcell_4', 'subs_VWC', 'subs_EC', 'subs_bulk_EC', 'subs_temp', 'permit', 'rad', 'temp', 'hum']\n",
    "SW2_rb_df.columns = ['loadcell_6', 'subs_VWC', 'subs_EC', 'subs_bulk_EC', 'subs_temp', 'permit', 'loadcell_5', 'rad', 'temp', 'hum']"
   ]
  },
  {
   "cell_type": "code",
   "execution_count": null,
   "metadata": {},
   "outputs": [],
   "source": [
    "SW2_fr_df = SW2_fr_df[['temp', 'hum', 'rad', 'subs_VWC', 'subs_EC', 'subs_bulk_EC', 'subs_temp', 'permit', 'loadcell_4']]\n",
    "SW2_rb_df = SW2_rb_df[['temp', 'hum', 'rad', 'subs_VWC', 'subs_EC', 'subs_bulk_EC', 'subs_temp', 'permit', 'loadcell_5', 'loadcell_6']]"
   ]
  },
  {
   "cell_type": "code",
   "execution_count": null,
   "metadata": {},
   "outputs": [],
   "source": [
    "SW2_fr_df['temp'] = ((SW2_fr_df['temp']-1000)/80)\n",
    "SW2_fr_df['hum'] = ((SW2_fr_df['hum']-1000)/40)\n",
    "SW2_fr_df['loadcell_4'] = ((SW2_fr_df['loadcell_4']))\n",
    "\n",
    "SW2_rb_df['temp'] = ((SW2_rb_df['temp']-1000)/80)\n",
    "SW2_rb_df['hum'] = ((SW2_rb_df['hum']-1000)/40)\n",
    "SW2_rb_df['loadcell_5'] = ((SW2_rb_df['loadcell_5']))\n",
    "SW2_rb_df['loadcell_6'] = ((SW2_rb_df['loadcell_6']))"
   ]
  },
  {
   "cell_type": "code",
   "execution_count": null,
   "metadata": {},
   "outputs": [],
   "source": [
    "SW2_fr_df.to_csv('./results/2020_W/SW_FR_greenhouse_origin.csv')\n",
    "SW2_rb_df.to_csv('./results/2020_W/SW_RB_greenhouse_origin.csv')"
   ]
  }
 ],
 "metadata": {
  "kernelspec": {
   "display_name": "tf20",
   "language": "python",
   "name": "tf20"
  },
  "language_info": {
   "codemirror_mode": {
    "name": "ipython",
    "version": 3
   },
   "file_extension": ".py",
   "mimetype": "text/x-python",
   "name": "python",
   "nbconvert_exporter": "python",
   "pygments_lexer": "ipython3",
   "version": "3.6.9"
  }
 },
 "nbformat": 4,
 "nbformat_minor": 4
}
