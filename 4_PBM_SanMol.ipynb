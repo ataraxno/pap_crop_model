{
 "cells": [
  {
   "cell_type": "code",
   "execution_count": 1,
   "metadata": {},
   "outputs": [],
   "source": [
    "import sys\n",
    "sys.path.append('../')\n",
    "\n",
    "import numpy as np\n",
    "import pandas as pd"
   ]
  },
  {
   "cell_type": "code",
   "execution_count": 2,
   "metadata": {},
   "outputs": [],
   "source": [
    "from SanMol.growth_model import *"
   ]
  },
  {
   "cell_type": "markdown",
   "metadata": {},
   "source": [
    "# Parameters"
   ]
  },
  {
   "cell_type": "code",
   "execution_count": 3,
   "metadata": {},
   "outputs": [],
   "source": [
    "START_DATE = '2020-02-26'\n",
    "END_DATE = '2020-07-03'"
   ]
  },
  {
   "cell_type": "code",
   "execution_count": 4,
   "metadata": {},
   "outputs": [
    {
     "name": "stdout",
     "output_type": "stream",
     "text": [
      "Cultivation period: 128 days\n",
      "Starting DOY: 57\n"
     ]
    }
   ],
   "source": [
    "START_DATE = pd.Timestamp(START_DATE)\n",
    "END_DATE = pd.Timestamp(END_DATE)\n",
    "\n",
    "print(f'Cultivation period: {(END_DATE - START_DATE).days} days')\n",
    "print(f'Starting DOY: {START_DATE.dayofyear}')"
   ]
  },
  {
   "cell_type": "code",
   "execution_count": 5,
   "metadata": {},
   "outputs": [],
   "source": [
    "env_df = pd.read_csv('../ch2_weighing/results/2020_S/SW_CT_greenhouse_origin.csv', index_col='Unnamed: 0')\n",
    "env_df['co2'] = 400\n",
    "env_df.index = pd.DatetimeIndex(env_df.index)\n",
    "env_df = env_df.loc[:, ['temp', 'hum', 'co2', 'rad']]"
   ]
  },
  {
   "cell_type": "code",
   "execution_count": 6,
   "metadata": {},
   "outputs": [],
   "source": [
    "env_df = env_df.resample('1H').mean()"
   ]
  },
  {
   "cell_type": "code",
   "execution_count": 7,
   "metadata": {},
   "outputs": [],
   "source": [
    "crop = SweetPepper()"
   ]
  },
  {
   "cell_type": "code",
   "execution_count": 8,
   "metadata": {},
   "outputs": [],
   "source": [
    "temp = env_df.values[:24, 0].reshape(-1, 1)\n",
    "rh = env_df.values[:24, 1].reshape(-1, 1)/100\n",
    "co2 = env_df.values[:24, 2].reshape(-1, 1)\n",
    "rad = env_df.values[:24, 3].reshape(-1, 1)"
   ]
  },
  {
   "cell_type": "code",
   "execution_count": 9,
   "metadata": {},
   "outputs": [],
   "source": [
    "for i in range(150):\n",
    "    crop.life_cycle(temp, rh, co2, rad)"
   ]
  },
  {
   "cell_type": "code",
   "execution_count": 10,
   "metadata": {},
   "outputs": [],
   "source": [
    "# crop.life_cycle(temp, rh, co2, rad)"
   ]
  },
  {
   "cell_type": "code",
   "execution_count": 11,
   "metadata": {},
   "outputs": [
    {
     "name": "stdout",
     "output_type": "stream",
     "text": [
      "<150 DAT>\n",
      "\n",
      "# Assimilation #\n",
      "Photosynthesis: [25.19369816] / Respiration: [25.19284431]\n",
      "\n",
      "# Dry weights #\n",
      "leaves: [6.57986701] / stems: [6.6983468] / roots: [5.95370419] / fruits: [22.06399046]\n",
      "\n",
      "# LAI #\n",
      "LAI: 5.999802215983968\n"
     ]
    }
   ],
   "source": [
    "crop.status()"
   ]
  }
 ],
 "metadata": {
  "kernelspec": {
   "display_name": "tf20",
   "language": "python",
   "name": "tf20"
  },
  "language_info": {
   "codemirror_mode": {
    "name": "ipython",
    "version": 3
   },
   "file_extension": ".py",
   "mimetype": "text/x-python",
   "name": "python",
   "nbconvert_exporter": "python",
   "pygments_lexer": "ipython3",
   "version": "3.6.9"
  }
 },
 "nbformat": 4,
 "nbformat_minor": 4
}
